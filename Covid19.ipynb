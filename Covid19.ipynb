{
 "cells": [
  {
   "cell_type": "markdown",
   "metadata": {},
   "source": [
    "# STAT564\n",
    "\n",
    "## Covid-19 Project\n",
    "\n",
    "The main purpose of this study is correctly predicting the countries/cities air pollution change with the machine learning algorithms such as logistic regression, support vector machine, random forest decision tree, k-nearest neighbor."
   ]
  },
  {
   "cell_type": "code",
   "execution_count": 1,
   "metadata": {},
   "outputs": [],
   "source": [
    "# General Libraries for Data Analysis and Visualization\n",
    "import pandas as pd\n",
    "import numpy as np\n",
    "import matplotlib.pyplot as plt\n",
    "import seaborn as sns\n",
    "\n",
    "## visualization\n",
    "import matplotlib.pyplot as plt\n",
    "import seaborn as sns\n",
    "import folium\n",
    "\n",
    "\n",
    "# Classification \n",
    "from sklearn.linear_model import LogisticRegression\n",
    "from sklearn.svm import SVC\n",
    "from sklearn.tree import DecisionTreeClassifier\n",
    "from sklearn.ensemble import RandomForestClassifier\n",
    "from sklearn.neighbors import KNeighborsClassifier\n",
    "\n",
    "#Standardization\n",
    "from sklearn.preprocessing import StandardScaler\n",
    "\n",
    "# Evaluation Metrics \n",
    "from sklearn.metrics import confusion_matrix, f1_score, accuracy_score\n",
    "from sklearn.metrics import roc_auc_score,roc_curve, auc\n",
    "\n",
    "# Validation\n",
    "from sklearn.model_selection import KFold\n",
    "from sklearn.model_selection import train_test_split, GridSearchCV, cross_val_score\n",
    "from sklearn.model_selection import RepeatedKFold\n",
    "\n",
    "# used for ignoring the unnecessary warnings\n",
    "from warnings import filterwarnings\n",
    "filterwarnings('ignore')"
   ]
  },
  {
   "cell_type": "markdown",
   "metadata": {},
   "source": [
    "## Descriptive Statistics"
   ]
  },
  {
   "cell_type": "code",
   "execution_count": 2,
   "metadata": {},
   "outputs": [
    {
     "data": {
      "text/html": [
       "<div>\n",
       "<style scoped>\n",
       "    .dataframe tbody tr th:only-of-type {\n",
       "        vertical-align: middle;\n",
       "    }\n",
       "\n",
       "    .dataframe tbody tr th {\n",
       "        vertical-align: top;\n",
       "    }\n",
       "\n",
       "    .dataframe thead th {\n",
       "        text-align: right;\n",
       "    }\n",
       "</style>\n",
       "<table border=\"1\" class=\"dataframe\">\n",
       "  <thead>\n",
       "    <tr style=\"text-align: right;\">\n",
       "      <th></th>\n",
       "      <th>Country</th>\n",
       "      <th>City</th>\n",
       "      <th>Country_Population</th>\n",
       "      <th>Total_Day_Lockdown</th>\n",
       "      <th>Avg_Pollution_2020</th>\n",
       "      <th>Avg_Pollution_2019</th>\n",
       "      <th>Change</th>\n",
       "      <th>Development</th>\n",
       "      <th>Total_Case</th>\n",
       "      <th>Total_Death</th>\n",
       "      <th>Latitude</th>\n",
       "      <th>Longitude</th>\n",
       "    </tr>\n",
       "  </thead>\n",
       "  <tbody>\n",
       "    <tr>\n",
       "      <td>0</td>\n",
       "      <td>United Arab Emirates</td>\n",
       "      <td>Dubai</td>\n",
       "      <td>9890400</td>\n",
       "      <td>23</td>\n",
       "      <td>86.0</td>\n",
       "      <td>95</td>\n",
       "      <td>1</td>\n",
       "      <td>1</td>\n",
       "      <td>22627</td>\n",
       "      <td>214</td>\n",
       "      <td>23.424076</td>\n",
       "      <td>53.847818</td>\n",
       "    </tr>\n",
       "    <tr>\n",
       "      <td>1</td>\n",
       "      <td>Argentina</td>\n",
       "      <td>Buenos Aires</td>\n",
       "      <td>45195777</td>\n",
       "      <td>60</td>\n",
       "      <td>35.9</td>\n",
       "      <td>35</td>\n",
       "      <td>0</td>\n",
       "      <td>0</td>\n",
       "      <td>7792</td>\n",
       "      <td>363</td>\n",
       "      <td>-38.416097</td>\n",
       "      <td>-63.616672</td>\n",
       "    </tr>\n",
       "    <tr>\n",
       "      <td>2</td>\n",
       "      <td>Austria</td>\n",
       "      <td>Vienna</td>\n",
       "      <td>9006400</td>\n",
       "      <td>29</td>\n",
       "      <td>44.0</td>\n",
       "      <td>50</td>\n",
       "      <td>1</td>\n",
       "      <td>1</td>\n",
       "      <td>16140</td>\n",
       "      <td>628</td>\n",
       "      <td>47.516231</td>\n",
       "      <td>14.550072</td>\n",
       "    </tr>\n",
       "    <tr>\n",
       "      <td>3</td>\n",
       "      <td>Australia</td>\n",
       "      <td>Melbourne</td>\n",
       "      <td>25499881</td>\n",
       "      <td>56</td>\n",
       "      <td>31.0</td>\n",
       "      <td>28</td>\n",
       "      <td>0</td>\n",
       "      <td>1</td>\n",
       "      <td>7036</td>\n",
       "      <td>98</td>\n",
       "      <td>-25.274398</td>\n",
       "      <td>133.775136</td>\n",
       "    </tr>\n",
       "    <tr>\n",
       "      <td>4</td>\n",
       "      <td>Bangladesh</td>\n",
       "      <td>Dhaka</td>\n",
       "      <td>25499881</td>\n",
       "      <td>31</td>\n",
       "      <td>175.0</td>\n",
       "      <td>210</td>\n",
       "      <td>1</td>\n",
       "      <td>0</td>\n",
       "      <td>7036</td>\n",
       "      <td>98</td>\n",
       "      <td>23.684994</td>\n",
       "      <td>90.356331</td>\n",
       "    </tr>\n",
       "  </tbody>\n",
       "</table>\n",
       "</div>"
      ],
      "text/plain": [
       "                Country          City  Country_Population  Total_Day_Lockdown  \\\n",
       "0  United Arab Emirates         Dubai             9890400                  23   \n",
       "1             Argentina  Buenos Aires            45195777                  60   \n",
       "2               Austria        Vienna             9006400                  29   \n",
       "3             Australia     Melbourne            25499881                  56   \n",
       "4            Bangladesh         Dhaka            25499881                  31   \n",
       "\n",
       "   Avg_Pollution_2020  Avg_Pollution_2019  Change  Development  Total_Case  \\\n",
       "0                86.0                  95       1            1       22627   \n",
       "1                35.9                  35       0            0        7792   \n",
       "2                44.0                  50       1            1       16140   \n",
       "3                31.0                  28       0            1        7036   \n",
       "4               175.0                 210       1            0        7036   \n",
       "\n",
       "   Total_Death   Latitude   Longitude  \n",
       "0          214  23.424076   53.847818  \n",
       "1          363 -38.416097  -63.616672  \n",
       "2          628  47.516231   14.550072  \n",
       "3           98 -25.274398  133.775136  \n",
       "4           98  23.684994   90.356331  "
      ]
     },
     "execution_count": 2,
     "metadata": {},
     "output_type": "execute_result"
    }
   ],
   "source": [
    "# load data set\n",
    "data = pd.read_csv(\"covid_data.csv\")\n",
    "data.head()"
   ]
  },
  {
   "cell_type": "code",
   "execution_count": 3,
   "metadata": {},
   "outputs": [
    {
     "data": {
      "text/plain": [
       "(47, 12)"
      ]
     },
     "execution_count": 3,
     "metadata": {},
     "output_type": "execute_result"
    }
   ],
   "source": [
    "data.shape"
   ]
  },
  {
   "cell_type": "markdown",
   "metadata": {},
   "source": [
    "There are 47 observation and 12 attributes in the dataset."
   ]
  },
  {
   "cell_type": "code",
   "execution_count": 4,
   "metadata": {},
   "outputs": [
    {
     "data": {
      "text/plain": [
       "False"
      ]
     },
     "execution_count": 4,
     "metadata": {},
     "output_type": "execute_result"
    }
   ],
   "source": [
    "data.isnull().values.any()"
   ]
  },
  {
   "cell_type": "markdown",
   "metadata": {},
   "source": [
    "There is no mising value in the dataset."
   ]
  },
  {
   "cell_type": "code",
   "execution_count": 5,
   "metadata": {},
   "outputs": [],
   "source": [
    "# it is float, it may caouse problems, so it turned into int.\n",
    "data[\"Avg_Pollution_2020\"] = data[\"Avg_Pollution_2020\"].astype(\"int64\")"
   ]
  },
  {
   "cell_type": "code",
   "execution_count": 6,
   "metadata": {},
   "outputs": [
    {
     "name": "stdout",
     "output_type": "stream",
     "text": [
      "<class 'pandas.core.frame.DataFrame'>\n",
      "RangeIndex: 47 entries, 0 to 46\n",
      "Data columns (total 12 columns):\n",
      "Country               47 non-null object\n",
      "City                  47 non-null object\n",
      "Country_Population    47 non-null int64\n",
      "Total_Day_Lockdown    47 non-null int64\n",
      "Avg_Pollution_2020    47 non-null int64\n",
      "Avg_Pollution_2019    47 non-null int64\n",
      "Change                47 non-null int64\n",
      "Development           47 non-null int64\n",
      "Total_Case            47 non-null int64\n",
      "Total_Death           47 non-null int64\n",
      "Latitude              47 non-null float64\n",
      "Longitude             47 non-null float64\n",
      "dtypes: float64(2), int64(8), object(2)\n",
      "memory usage: 4.5+ KB\n"
     ]
    }
   ],
   "source": [
    "data.info()"
   ]
  },
  {
   "cell_type": "markdown",
   "metadata": {},
   "source": [
    "- There are two categorical variables in the dataset. Their datatypes are represented as 'object'. (Country and City attributes)\n",
    "\n",
    "- There are 10 numnerical attributes their data types are reprepsented as 'int' or 'float'. "
   ]
  },
  {
   "cell_type": "code",
   "execution_count": 7,
   "metadata": {
    "scrolled": true
   },
   "outputs": [
    {
     "data": {
      "text/html": [
       "<div>\n",
       "<style scoped>\n",
       "    .dataframe tbody tr th:only-of-type {\n",
       "        vertical-align: middle;\n",
       "    }\n",
       "\n",
       "    .dataframe tbody tr th {\n",
       "        vertical-align: top;\n",
       "    }\n",
       "\n",
       "    .dataframe thead th {\n",
       "        text-align: right;\n",
       "    }\n",
       "</style>\n",
       "<table border=\"1\" class=\"dataframe\">\n",
       "  <thead>\n",
       "    <tr style=\"text-align: right;\">\n",
       "      <th></th>\n",
       "      <th>Country_Population</th>\n",
       "      <th>Total_Day_Lockdown</th>\n",
       "      <th>Avg_Pollution_2020</th>\n",
       "      <th>Avg_Pollution_2019</th>\n",
       "      <th>Change</th>\n",
       "      <th>Development</th>\n",
       "      <th>Total_Case</th>\n",
       "      <th>Total_Death</th>\n",
       "      <th>Latitude</th>\n",
       "      <th>Longitude</th>\n",
       "    </tr>\n",
       "  </thead>\n",
       "  <tbody>\n",
       "    <tr>\n",
       "      <td>count</td>\n",
       "      <td>47.000000</td>\n",
       "      <td>47.000000</td>\n",
       "      <td>47.000000</td>\n",
       "      <td>47.000000</td>\n",
       "      <td>47.000000</td>\n",
       "      <td>47.000000</td>\n",
       "      <td>47.000000</td>\n",
       "      <td>47.000000</td>\n",
       "      <td>47.000000</td>\n",
       "      <td>47.000000</td>\n",
       "    </tr>\n",
       "    <tr>\n",
       "      <td>mean</td>\n",
       "      <td>101724795.595745</td>\n",
       "      <td>41.276596</td>\n",
       "      <td>61.021277</td>\n",
       "      <td>66.595745</td>\n",
       "      <td>0.680851</td>\n",
       "      <td>0.617021</td>\n",
       "      <td>82515.191489</td>\n",
       "      <td>5941.148936</td>\n",
       "      <td>30.557918</td>\n",
       "      <td>21.323863</td>\n",
       "    </tr>\n",
       "    <tr>\n",
       "      <td>std</td>\n",
       "      <td>286095427.055912</td>\n",
       "      <td>16.553867</td>\n",
       "      <td>37.252656</td>\n",
       "      <td>45.319954</td>\n",
       "      <td>0.471186</td>\n",
       "      <td>0.491369</td>\n",
       "      <td>220366.267322</td>\n",
       "      <td>15064.538718</td>\n",
       "      <td>27.445875</td>\n",
       "      <td>60.137554</td>\n",
       "    </tr>\n",
       "    <tr>\n",
       "      <td>min</td>\n",
       "      <td>2722291.000000</td>\n",
       "      <td>7.000000</td>\n",
       "      <td>2.000000</td>\n",
       "      <td>3.000000</td>\n",
       "      <td>0.000000</td>\n",
       "      <td>0.000000</td>\n",
       "      <td>0.000000</td>\n",
       "      <td>0.000000</td>\n",
       "      <td>-40.900557</td>\n",
       "      <td>-95.712891</td>\n",
       "    </tr>\n",
       "    <tr>\n",
       "      <td>25%</td>\n",
       "      <td>6369824.500000</td>\n",
       "      <td>29.500000</td>\n",
       "      <td>38.000000</td>\n",
       "      <td>39.000000</td>\n",
       "      <td>0.000000</td>\n",
       "      <td>0.000000</td>\n",
       "      <td>4897.500000</td>\n",
       "      <td>102.500000</td>\n",
       "      <td>22.008880</td>\n",
       "      <td>-0.888174</td>\n",
       "    </tr>\n",
       "    <tr>\n",
       "      <td>50%</td>\n",
       "      <td>19116209.000000</td>\n",
       "      <td>43.000000</td>\n",
       "      <td>44.000000</td>\n",
       "      <td>53.000000</td>\n",
       "      <td>1.000000</td>\n",
       "      <td>1.000000</td>\n",
       "      <td>16140.000000</td>\n",
       "      <td>497.000000</td>\n",
       "      <td>39.399872</td>\n",
       "      <td>15.472962</td>\n",
       "    </tr>\n",
       "    <tr>\n",
       "      <td>75%</td>\n",
       "      <td>55672356.000000</td>\n",
       "      <td>55.500000</td>\n",
       "      <td>82.500000</td>\n",
       "      <td>75.000000</td>\n",
       "      <td>1.000000</td>\n",
       "      <td>1.000000</td>\n",
       "      <td>69516.500000</td>\n",
       "      <td>2780.000000</td>\n",
       "      <td>49.243259</td>\n",
       "      <td>50.664792</td>\n",
       "    </tr>\n",
       "    <tr>\n",
       "      <td>max</td>\n",
       "      <td>1439323774.000000</td>\n",
       "      <td>77.000000</td>\n",
       "      <td>175.000000</td>\n",
       "      <td>217.000000</td>\n",
       "      <td>1.000000</td>\n",
       "      <td>1.000000</td>\n",
       "      <td>1467884.000000</td>\n",
       "      <td>88754.000000</td>\n",
       "      <td>61.924110</td>\n",
       "      <td>174.885971</td>\n",
       "    </tr>\n",
       "  </tbody>\n",
       "</table>\n",
       "</div>"
      ],
      "text/plain": [
       "       Country_Population  Total_Day_Lockdown  Avg_Pollution_2020  \\\n",
       "count           47.000000           47.000000           47.000000   \n",
       "mean     101724795.595745           41.276596           61.021277   \n",
       "std      286095427.055912           16.553867           37.252656   \n",
       "min        2722291.000000            7.000000            2.000000   \n",
       "25%        6369824.500000           29.500000           38.000000   \n",
       "50%       19116209.000000           43.000000           44.000000   \n",
       "75%       55672356.000000           55.500000           82.500000   \n",
       "max     1439323774.000000           77.000000          175.000000   \n",
       "\n",
       "       Avg_Pollution_2019    Change  Development     Total_Case  Total_Death  \\\n",
       "count           47.000000 47.000000    47.000000      47.000000    47.000000   \n",
       "mean            66.595745  0.680851     0.617021   82515.191489  5941.148936   \n",
       "std             45.319954  0.471186     0.491369  220366.267322 15064.538718   \n",
       "min              3.000000  0.000000     0.000000       0.000000     0.000000   \n",
       "25%             39.000000  0.000000     0.000000    4897.500000   102.500000   \n",
       "50%             53.000000  1.000000     1.000000   16140.000000   497.000000   \n",
       "75%             75.000000  1.000000     1.000000   69516.500000  2780.000000   \n",
       "max            217.000000  1.000000     1.000000 1467884.000000 88754.000000   \n",
       "\n",
       "        Latitude  Longitude  \n",
       "count  47.000000  47.000000  \n",
       "mean   30.557918  21.323863  \n",
       "std    27.445875  60.137554  \n",
       "min   -40.900557 -95.712891  \n",
       "25%    22.008880  -0.888174  \n",
       "50%    39.399872  15.472962  \n",
       "75%    49.243259  50.664792  \n",
       "max    61.924110 174.885971  "
      ]
     },
     "execution_count": 7,
     "metadata": {},
     "output_type": "execute_result"
    }
   ],
   "source": [
    "pd.set_option('float_format', '{:f}'.format) #used for the changing format for float type data.\n",
    "data.describe()"
   ]
  },
  {
   "cell_type": "markdown",
   "metadata": {},
   "source": [
    "- All variables have different mean and standard deviation value, each of the attributes have dfferent scale.\n",
    "\n",
    "- In average this year PM2.5 level is lower than the last year. \n",
    "- 61% of the countries are developed according to their Gdp per capita.\n",
    "- From the mean value of Change attribute, it can be said that 68% of the cities PM2.5 level has been decreased.\n",
    "\n",
    "\n",
    "For the rest of the analysis, since standardization will provide better result, before the apply any algorithm the data should be standardized."
   ]
  },
  {
   "cell_type": "markdown",
   "metadata": {},
   "source": [
    "#### Worldwide Cases and Deaths \n",
    "\n",
    "\n",
    "- In this study one major cities of each 47 countries is taken, their PM2.5 levels are compared with 2020 and 2019 in the same period, but number of cases and number of death from coronavirus could not be found as citywise, becaue of that countrywise values are used in this study. \n",
    "\n",
    "- In the belove map, countries (which was selected in this study),  total number of confirmed cases and total number of deaths can be seen (as of 17th May)."
   ]
  },
  {
   "cell_type": "code",
   "execution_count": 8,
   "metadata": {
    "scrolled": true
   },
   "outputs": [
    {
     "data": {
      "text/html": [
       "<div style=\"width:100%;\"><div style=\"position:relative;width:100%;height:0;padding-bottom:60%;\"><span style=\"color:#565656\">Make this Notebook Trusted to load map: File -> Trust Notebook</span><iframe src=\"about:blank\" style=\"position:absolute;width:100%;height:100%;left:0;top:0;border:none !important;\" data-html=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 onload=\"this.contentDocument.open();this.contentDocument.write(atob(this.getAttribute('data-html')));this.contentDocument.close();\" allowfullscreen webkitallowfullscreen mozallowfullscreen></iframe></div></div>"
      ],
      "text/plain": [
       "<folium.folium.Map at 0x2634fcc2ac8>"
      ]
     },
     "execution_count": 8,
     "metadata": {},
     "output_type": "execute_result"
    }
   ],
   "source": [
    "# World Map\n",
    "m = folium.Map(location=[0, 0], tiles='cartodbpositron',\n",
    "               min_zoom=1, max_zoom=4, zoom_start=1)\n",
    "\n",
    "for i in range(0, len(data)):\n",
    "    folium.Circle(\n",
    "        location=[data.iloc[i]['Latitude'], data.iloc[i]['Longitude']],\n",
    "        color='crimson', fill='crimson',\n",
    "        tooltip =   '<li><bold>Country : '+str(data.iloc[i]['Country'])+\n",
    "                    \n",
    "                    '<li><bold>Confirmed : '+str(data.iloc[i]['Total_Case'])+\n",
    "                    '<li><bold>Deaths : '+str(data.iloc[i]['Total_Death']),\n",
    "        radius=int(data.iloc[i]['Total_Case'])**0.5).add_to(m)\n",
    "m"
   ]
  },
  {
   "cell_type": "markdown",
   "metadata": {},
   "source": [
    "## Descriptive Statistics of Target Variable"
   ]
  },
  {
   "cell_type": "code",
   "execution_count": 9,
   "metadata": {},
   "outputs": [
    {
     "data": {
      "text/plain": [
       "count   47.000000\n",
       "mean     0.680851\n",
       "std      0.471186\n",
       "min      0.000000\n",
       "25%      0.000000\n",
       "50%      1.000000\n",
       "75%      1.000000\n",
       "max      1.000000\n",
       "Name: Change, dtype: float64"
      ]
     },
     "execution_count": 9,
     "metadata": {},
     "output_type": "execute_result"
    }
   ],
   "source": [
    "data[\"Change\"].describe()"
   ]
  },
  {
   "cell_type": "code",
   "execution_count": 10,
   "metadata": {},
   "outputs": [
    {
     "data": {
      "image/png": "[encoded data removed]",
      "text/plain": [
       "<Figure size 432x288 with 1 Axes>"
      ]
     },
     "metadata": {
      "needs_background": "light"
     },
     "output_type": "display_data"
    }
   ],
   "source": [
    "plt.title (\"Positive Change / No Change Responses\")\n",
    "data[\"Change\"].value_counts().plot.barh();"
   ]
  },
  {
   "cell_type": "markdown",
   "metadata": {},
   "source": [
    "In this graph it can be seen that total number of 1's is much larger than total number  0's. Nearly 68% of the cities has been affected positively and 32% of the cities has been faced with negative change or stay same in terms of PM2.5 levels."
   ]
  },
  {
   "cell_type": "code",
   "execution_count": 11,
   "metadata": {},
   "outputs": [
    {
     "data": {
      "image/png": "[encoded data removed]",
      "text/plain": [
       "<Figure size 360x216 with 1 Axes>"
      ]
     },
     "metadata": {
      "needs_background": "light"
     },
     "output_type": "display_data"
    }
   ],
   "source": [
    "positive_change = data[data.Change == 1]['Development'].value_counts()\n",
    "no_change = data[data.Change == 0]['Development'].value_counts()\n",
    "df_change = pd.DataFrame([positive_change , no_change])\n",
    "df_change.index = ['Positive Change' , 'No Change']\n",
    "df_change.plot(kind='bar',stacked=True, figsize=(5,3), title=\"Positive Change/ No Change by Development\");"
   ]
  },
  {
   "cell_type": "markdown",
   "metadata": {},
   "source": [
    "In the graph above, developed countries represented with color \"blue\". It can be said that cities that has been change positively are belong to the developed countries. In \"no change\", number of developed and developing countries seem equal according to the graph. "
   ]
  },
  {
   "cell_type": "markdown",
   "metadata": {},
   "source": [
    "### Correlation with Change Attributes"
   ]
  },
  {
   "cell_type": "code",
   "execution_count": 12,
   "metadata": {},
   "outputs": [
    {
     "data": {
      "image/png": "[encoded data removed]",
      "text/plain": [
       "<Figure size 360x360 with 2 Axes>"
      ]
     },
     "metadata": {
      "needs_background": "light"
     },
     "output_type": "display_data"
    }
   ],
   "source": [
    "used_columns_data= data[[\"Change\", \"Total_Day_Lockdown\", \"Development\",\n",
    "              \"Country_Population\",  \"Avg_Pollution_2020\",\n",
    "              \"Avg_Pollution_2019\",\"Total_Case\",\"Total_Death\"]] # some of the columns will not be used in this study, they used only for visualization (Longitude, Latitude)\n",
    "ix = used_columns_data.corr().sort_values('Change', ascending=False).index\n",
    "df_sorted_by_correlation = used_columns_data.loc[:, ix]\n",
    "\n",
    "\n",
    "corr = used_columns_data.corr()\n",
    "mask = np.zeros_like(corr)\n",
    "mask[np.triu_indices_from(mask)] = True\n",
    "plt.subplots(figsize=(5,5))\n",
    "with sns.axes_style(\"white\"):\n",
    "    # display a correlation heatmap\n",
    "    ax = sns.heatmap(corr, mask=mask, annot=True)"
   ]
  },
  {
   "cell_type": "markdown",
   "metadata": {},
   "source": [
    "- All varaibles in the dataset has weak correlation with the response variable Change. \n",
    "- Total Case and Total Deaths have strong correlation with each other.\n",
    "- Avg_Pollution_2020 and Avg_Pollution_2019 has moderate correlation with Country Population.\n",
    "- Also development is negatively correlated with Avg_Pollution_2020 and Avg_Pollution_2019, when development increase air pollution is decreased. "
   ]
  },
  {
   "cell_type": "code",
   "execution_count": 13,
   "metadata": {},
   "outputs": [
    {
     "name": "stdout",
     "output_type": "stream",
     "text": [
      "number of outliers in Total_Day_Lockdown : 0\n",
      "number of outliers in Development : 0\n",
      "number of outliers in Country_Population : 6\n",
      "number of outliers in Change : 0\n",
      "number of outliers in Avg_Pollution_2020 : 2\n",
      "number of outliers in Avg_Pollution_2019 : 4\n",
      "number of outliers in Total_Case : 7\n",
      "number of outliers in Total_Death : 8\n"
     ]
    }
   ],
   "source": [
    "## Outlier \n",
    "numeric_columns=[ \"Total_Day_Lockdown\", \"Development\",\"Country_Population\", \"Change\", \"Avg_Pollution_2020\", \"Avg_Pollution_2019\",\"Total_Case\",\"Total_Death\"]\n",
    "for columns in numeric_columns:\n",
    "    quantiles=data[columns].quantile(q=[0.25,0.50,0.75]).values\n",
    "    q1=quantiles[0]\n",
    "    q2=quantiles[1]\n",
    "    q3=quantiles[2]\n",
    "    iqr=q3-q1\n",
    "    outliers=data[(data[columns] < q1-1.5*iqr ) | (data[columns] >  q3+ 1.5*iqr)][columns]\n",
    "    print(\"number of outliers in\", columns, \":\", (len(outliers))) "
   ]
  },
  {
   "cell_type": "markdown",
   "metadata": {},
   "source": [
    "- There are some outliers in the Country_Population, Avg_Pollution_2020, Avg_Pollution_2019, Total_Case, Total_Death. Since dataset contains limited number of observation outliers, analysis will be done with this dataset with the outliers. "
   ]
  },
  {
   "cell_type": "code",
   "execution_count": 14,
   "metadata": {},
   "outputs": [
    {
     "data": {
      "text/html": [
       "<div>\n",
       "<style scoped>\n",
       "    .dataframe tbody tr th:only-of-type {\n",
       "        vertical-align: middle;\n",
       "    }\n",
       "\n",
       "    .dataframe tbody tr th {\n",
       "        vertical-align: top;\n",
       "    }\n",
       "\n",
       "    .dataframe thead th {\n",
       "        text-align: right;\n",
       "    }\n",
       "</style>\n",
       "<table border=\"1\" class=\"dataframe\">\n",
       "  <thead>\n",
       "    <tr style=\"text-align: right;\">\n",
       "      <th></th>\n",
       "      <th>Country_Population</th>\n",
       "      <th>Total_Day_Lockdown</th>\n",
       "      <th>Avg_Pollution_2020</th>\n",
       "      <th>Avg_Pollution_2019</th>\n",
       "      <th>Development</th>\n",
       "      <th>Total_Case</th>\n",
       "      <th>Total_Death</th>\n",
       "    </tr>\n",
       "  </thead>\n",
       "  <tbody>\n",
       "    <tr>\n",
       "      <td>0</td>\n",
       "      <td>9890400</td>\n",
       "      <td>23</td>\n",
       "      <td>86</td>\n",
       "      <td>95</td>\n",
       "      <td>1</td>\n",
       "      <td>22627</td>\n",
       "      <td>214</td>\n",
       "    </tr>\n",
       "    <tr>\n",
       "      <td>1</td>\n",
       "      <td>45195777</td>\n",
       "      <td>60</td>\n",
       "      <td>35</td>\n",
       "      <td>35</td>\n",
       "      <td>0</td>\n",
       "      <td>7792</td>\n",
       "      <td>363</td>\n",
       "    </tr>\n",
       "    <tr>\n",
       "      <td>2</td>\n",
       "      <td>9006400</td>\n",
       "      <td>29</td>\n",
       "      <td>44</td>\n",
       "      <td>50</td>\n",
       "      <td>1</td>\n",
       "      <td>16140</td>\n",
       "      <td>628</td>\n",
       "    </tr>\n",
       "    <tr>\n",
       "      <td>3</td>\n",
       "      <td>25499881</td>\n",
       "      <td>56</td>\n",
       "      <td>31</td>\n",
       "      <td>28</td>\n",
       "      <td>1</td>\n",
       "      <td>7036</td>\n",
       "      <td>98</td>\n",
       "    </tr>\n",
       "    <tr>\n",
       "      <td>4</td>\n",
       "      <td>25499881</td>\n",
       "      <td>31</td>\n",
       "      <td>175</td>\n",
       "      <td>210</td>\n",
       "      <td>0</td>\n",
       "      <td>7036</td>\n",
       "      <td>98</td>\n",
       "    </tr>\n",
       "  </tbody>\n",
       "</table>\n",
       "</div>"
      ],
      "text/plain": [
       "   Country_Population  Total_Day_Lockdown  Avg_Pollution_2020  \\\n",
       "0             9890400                  23                  86   \n",
       "1            45195777                  60                  35   \n",
       "2             9006400                  29                  44   \n",
       "3            25499881                  56                  31   \n",
       "4            25499881                  31                 175   \n",
       "\n",
       "   Avg_Pollution_2019  Development  Total_Case  Total_Death  \n",
       "0                  95            1       22627          214  \n",
       "1                  35            0        7792          363  \n",
       "2                  50            1       16140          628  \n",
       "3                  28            1        7036           98  \n",
       "4                 210            0        7036           98  "
      ]
     },
     "execution_count": 14,
     "metadata": {},
     "output_type": "execute_result"
    }
   ],
   "source": [
    "data.drop(columns=['Country','City','Latitude','Longitude'], inplace=True)\n",
    "y = data[\"Change\"]\n",
    "\n",
    "X = data.drop([\"Change\"], axis=1)\n",
    "X.head()"
   ]
  },
  {
   "cell_type": "markdown",
   "metadata": {},
   "source": [
    "## Standardization"
   ]
  },
  {
   "cell_type": "markdown",
   "metadata": {},
   "source": [
    "When independent variables in training data are measured in different units, it is important to standardize variables before applying algorithms because one variable may dominate all the others. Since in the dataset all variables are in different scale, before applying any algorithm to the data, explanatory variables are standardized. "
   ]
  },
  {
   "cell_type": "code",
   "execution_count": 15,
   "metadata": {},
   "outputs": [],
   "source": [
    "X = StandardScaler().fit_transform(X)\n",
    "#X = pd.DataFrame(X, columns = ['Country_Population','Total_Day_Lockdown','Average_AirPollution','Last_year_avg_pollution','Gdp_per_capita','Total_Case','Total_Death'])\n",
    "X = pd.DataFrame(X, columns = ['Country_Population','Total_Day_Lockdown','Avg_Pollution_2020','Avg_Pollution_2019',\"Development\",\"Total_Case\",\"Total_Death\"])\n"
   ]
  },
  {
   "cell_type": "markdown",
   "metadata": {},
   "source": [
    "## Train Test Split"
   ]
  },
  {
   "cell_type": "markdown",
   "metadata": {},
   "source": [
    "In all analysis data set is divided into training data and test data. 30% of the data is used for testing, remaining 70% is used for training. Training set contains 35 observations and test set contains 15 observations."
   ]
  },
  {
   "cell_type": "code",
   "execution_count": 16,
   "metadata": {},
   "outputs": [],
   "source": [
    "X_training, X_test, y_training, y_test = train_test_split(X, y, \n",
    "                                                    test_size = 0.30, \n",
    "                                                    random_state = 42)"
   ]
  },
  {
   "cell_type": "code",
   "execution_count": 17,
   "metadata": {},
   "outputs": [
    {
     "data": {
      "text/html": [
       "<div>\n",
       "<style scoped>\n",
       "    .dataframe tbody tr th:only-of-type {\n",
       "        vertical-align: middle;\n",
       "    }\n",
       "\n",
       "    .dataframe tbody tr th {\n",
       "        vertical-align: top;\n",
       "    }\n",
       "\n",
       "    .dataframe thead th {\n",
       "        text-align: right;\n",
       "    }\n",
       "</style>\n",
       "<table border=\"1\" class=\"dataframe\">\n",
       "  <thead>\n",
       "    <tr style=\"text-align: right;\">\n",
       "      <th></th>\n",
       "      <th>Country_Population</th>\n",
       "      <th>Total_Day_Lockdown</th>\n",
       "      <th>Avg_Pollution_2020</th>\n",
       "      <th>Avg_Pollution_2019</th>\n",
       "      <th>Development</th>\n",
       "      <th>Total_Case</th>\n",
       "      <th>Total_Death</th>\n",
       "    </tr>\n",
       "  </thead>\n",
       "  <tbody>\n",
       "    <tr>\n",
       "      <td>13</td>\n",
       "      <td>-0.063387</td>\n",
       "      <td>0.471606</td>\n",
       "      <td>-0.651792</td>\n",
       "      <td>-0.280934</td>\n",
       "      <td>0.787839</td>\n",
       "      <td>0.421265</td>\n",
       "      <td>0.132376</td>\n",
       "    </tr>\n",
       "    <tr>\n",
       "      <td>17</td>\n",
       "      <td>-0.194216</td>\n",
       "      <td>0.960101</td>\n",
       "      <td>-0.570390</td>\n",
       "      <td>-0.459365</td>\n",
       "      <td>0.787839</td>\n",
       "      <td>0.682699</td>\n",
       "      <td>1.456636</td>\n",
       "    </tr>\n",
       "    <tr>\n",
       "      <td>44</td>\n",
       "      <td>-0.061426</td>\n",
       "      <td>-1.604500</td>\n",
       "      <td>0.080824</td>\n",
       "      <td>0.120536</td>\n",
       "      <td>-1.269296</td>\n",
       "      <td>0.300683</td>\n",
       "      <td>-0.123807</td>\n",
       "    </tr>\n",
       "    <tr>\n",
       "      <td>15</td>\n",
       "      <td>-0.204475</td>\n",
       "      <td>0.715854</td>\n",
       "      <td>0.270762</td>\n",
       "      <td>0.031320</td>\n",
       "      <td>-1.269296</td>\n",
       "      <td>-0.347206</td>\n",
       "      <td>-0.362276</td>\n",
       "    </tr>\n",
       "    <tr>\n",
       "      <td>9</td>\n",
       "      <td>4.725905</td>\n",
       "      <td>2.181340</td>\n",
       "      <td>1.193316</td>\n",
       "      <td>1.614896</td>\n",
       "      <td>-1.269296</td>\n",
       "      <td>0.007013</td>\n",
       "      <td>-0.087440</td>\n",
       "    </tr>\n",
       "    <tr>\n",
       "      <td>16</td>\n",
       "      <td>-0.297071</td>\n",
       "      <td>-1.543438</td>\n",
       "      <td>-0.380452</td>\n",
       "      <td>-0.191719</td>\n",
       "      <td>-1.269296</td>\n",
       "      <td>-0.228211</td>\n",
       "      <td>-0.218282</td>\n",
       "    </tr>\n",
       "    <tr>\n",
       "      <td>29</td>\n",
       "      <td>-0.349788</td>\n",
       "      <td>0.105234</td>\n",
       "      <td>-0.461854</td>\n",
       "      <td>-0.191719</td>\n",
       "      <td>0.787839</td>\n",
       "      <td>-0.371457</td>\n",
       "      <td>-0.394953</td>\n",
       "    </tr>\n",
       "    <tr>\n",
       "      <td>32</td>\n",
       "      <td>-0.340253</td>\n",
       "      <td>-0.505385</td>\n",
       "      <td>-0.950265</td>\n",
       "      <td>-0.682404</td>\n",
       "      <td>0.787839</td>\n",
       "      <td>-0.340895</td>\n",
       "      <td>-0.383077</td>\n",
       "    </tr>\n",
       "    <tr>\n",
       "      <td>45</td>\n",
       "      <td>-0.204890</td>\n",
       "      <td>-0.139013</td>\n",
       "      <td>-0.516122</td>\n",
       "      <td>-0.526277</td>\n",
       "      <td>-1.269296</td>\n",
       "      <td>-0.296580</td>\n",
       "      <td>-0.365295</td>\n",
       "    </tr>\n",
       "    <tr>\n",
       "      <td>0</td>\n",
       "      <td>-0.324462</td>\n",
       "      <td>-1.116004</td>\n",
       "      <td>0.677771</td>\n",
       "      <td>0.633525</td>\n",
       "      <td>0.787839</td>\n",
       "      <td>-0.274705</td>\n",
       "      <td>-0.384284</td>\n",
       "    </tr>\n",
       "    <tr>\n",
       "      <td>31</td>\n",
       "      <td>-0.298867</td>\n",
       "      <td>0.166296</td>\n",
       "      <td>-0.570390</td>\n",
       "      <td>-0.370150</td>\n",
       "      <td>0.787839</td>\n",
       "      <td>-0.177264</td>\n",
       "      <td>-0.018194</td>\n",
       "    </tr>\n",
       "    <tr>\n",
       "      <td>30</td>\n",
       "      <td>-0.347824</td>\n",
       "      <td>-2.092995</td>\n",
       "      <td>1.844530</td>\n",
       "      <td>2.797002</td>\n",
       "      <td>-1.269296</td>\n",
       "      <td>-0.377870</td>\n",
       "      <td>-0.398643</td>\n",
       "    </tr>\n",
       "    <tr>\n",
       "      <td>5</td>\n",
       "      <td>-0.318459</td>\n",
       "      <td>-0.505385</td>\n",
       "      <td>-0.543256</td>\n",
       "      <td>-0.392453</td>\n",
       "      <td>0.787839</td>\n",
       "      <td>-0.126262</td>\n",
       "      <td>0.205580</td>\n",
       "    </tr>\n",
       "    <tr>\n",
       "      <td>11</td>\n",
       "      <td>-0.341408</td>\n",
       "      <td>1.021163</td>\n",
       "      <td>-0.706060</td>\n",
       "      <td>-0.682404</td>\n",
       "      <td>0.787839</td>\n",
       "      <td>-0.374581</td>\n",
       "      <td>-0.397972</td>\n",
       "    </tr>\n",
       "    <tr>\n",
       "      <td>34</td>\n",
       "      <td>-0.342369</td>\n",
       "      <td>0.532668</td>\n",
       "      <td>-0.923131</td>\n",
       "      <td>-0.950051</td>\n",
       "      <td>0.787839</td>\n",
       "      <td>-0.373223</td>\n",
       "      <td>-0.397234</td>\n",
       "    </tr>\n",
       "    <tr>\n",
       "      <td>1</td>\n",
       "      <td>-0.199724</td>\n",
       "      <td>1.143287</td>\n",
       "      <td>-0.706060</td>\n",
       "      <td>-0.704708</td>\n",
       "      <td>-1.269296</td>\n",
       "      <td>-0.342752</td>\n",
       "      <td>-0.374287</td>\n",
       "    </tr>\n",
       "    <tr>\n",
       "      <td>41</td>\n",
       "      <td>-0.338437</td>\n",
       "      <td>-0.016889</td>\n",
       "      <td>-0.516122</td>\n",
       "      <td>-0.370150</td>\n",
       "      <td>0.787839</td>\n",
       "      <td>-0.253013</td>\n",
       "      <td>-0.397167</td>\n",
       "    </tr>\n",
       "    <tr>\n",
       "      <td>21</td>\n",
       "      <td>-0.322581</td>\n",
       "      <td>0.105234</td>\n",
       "      <td>-0.353318</td>\n",
       "      <td>-0.414757</td>\n",
       "      <td>0.787839</td>\n",
       "      <td>-0.365563</td>\n",
       "      <td>-0.387773</td>\n",
       "    </tr>\n",
       "    <tr>\n",
       "      <td>2</td>\n",
       "      <td>-0.327586</td>\n",
       "      <td>-0.749633</td>\n",
       "      <td>-0.461854</td>\n",
       "      <td>-0.370150</td>\n",
       "      <td>0.787839</td>\n",
       "      <td>-0.304460</td>\n",
       "      <td>-0.356505</td>\n",
       "    </tr>\n",
       "    <tr>\n",
       "      <td>35</td>\n",
       "      <td>-0.242913</td>\n",
       "      <td>1.326473</td>\n",
       "      <td>-0.136247</td>\n",
       "      <td>-0.303238</td>\n",
       "      <td>-1.269296</td>\n",
       "      <td>0.027640</td>\n",
       "      <td>-0.229353</td>\n",
       "    </tr>\n",
       "    <tr>\n",
       "      <td>23</td>\n",
       "      <td>-0.325275</td>\n",
       "      <td>-1.665562</td>\n",
       "      <td>-0.109113</td>\n",
       "      <td>-0.526277</td>\n",
       "      <td>0.787839</td>\n",
       "      <td>-0.362398</td>\n",
       "      <td>-0.368382</td>\n",
       "    </tr>\n",
       "    <tr>\n",
       "      <td>37</td>\n",
       "      <td>-0.225690</td>\n",
       "      <td>-0.688571</td>\n",
       "      <td>0.026557</td>\n",
       "      <td>0.142840</td>\n",
       "      <td>0.787839</td>\n",
       "      <td>-0.294750</td>\n",
       "      <td>-0.337248</td>\n",
       "    </tr>\n",
       "    <tr>\n",
       "      <td>10</td>\n",
       "      <td>-0.179631</td>\n",
       "      <td>0.410544</td>\n",
       "      <td>2.143003</td>\n",
       "      <td>0.075928</td>\n",
       "      <td>-1.269296</td>\n",
       "      <td>-0.309969</td>\n",
       "      <td>-0.360934</td>\n",
       "    </tr>\n",
       "    <tr>\n",
       "      <td>22</td>\n",
       "      <td>-0.344902</td>\n",
       "      <td>-0.505385</td>\n",
       "      <td>-0.516122</td>\n",
       "      <td>-0.615492</td>\n",
       "      <td>0.787839</td>\n",
       "      <td>-0.368292</td>\n",
       "      <td>-0.392269</td>\n",
       "    </tr>\n",
       "    <tr>\n",
       "      <td>18</td>\n",
       "      <td>-0.339830</td>\n",
       "      <td>-1.238128</td>\n",
       "      <td>-1.140203</td>\n",
       "      <td>-0.950051</td>\n",
       "      <td>0.787839</td>\n",
       "      <td>-0.349660</td>\n",
       "      <td>-0.378715</td>\n",
       "    </tr>\n",
       "    <tr>\n",
       "      <td>46</td>\n",
       "      <td>0.810067</td>\n",
       "      <td>0.105234</td>\n",
       "      <td>-0.895997</td>\n",
       "      <td>-0.727012</td>\n",
       "      <td>0.787839</td>\n",
       "      <td>6.354631</td>\n",
       "      <td>5.556636</td>\n",
       "    </tr>\n",
       "    <tr>\n",
       "      <td>20</td>\n",
       "      <td>-0.119557</td>\n",
       "      <td>0.899040</td>\n",
       "      <td>-0.597524</td>\n",
       "      <td>-0.637796</td>\n",
       "      <td>0.787839</td>\n",
       "      <td>0.723115</td>\n",
       "      <td>1.913981</td>\n",
       "    </tr>\n",
       "    <tr>\n",
       "      <td>7</td>\n",
       "      <td>-0.328829</td>\n",
       "      <td>0.899040</td>\n",
       "      <td>-1.601479</td>\n",
       "      <td>-1.418432</td>\n",
       "      <td>0.787839</td>\n",
       "      <td>-0.238642</td>\n",
       "      <td>-0.291218</td>\n",
       "    </tr>\n",
       "    <tr>\n",
       "      <td>42</td>\n",
       "      <td>-0.340117</td>\n",
       "      <td>-0.200075</td>\n",
       "      <td>-0.109113</td>\n",
       "      <td>-0.258630</td>\n",
       "      <td>0.787839</td>\n",
       "      <td>-0.371646</td>\n",
       "      <td>-0.396765</td>\n",
       "    </tr>\n",
       "    <tr>\n",
       "      <td>14</td>\n",
       "      <td>-0.338942</td>\n",
       "      <td>-0.444323</td>\n",
       "      <td>-0.760327</td>\n",
       "      <td>-0.838531</td>\n",
       "      <td>0.787839</td>\n",
       "      <td>-0.328689</td>\n",
       "      <td>-0.362209</td>\n",
       "    </tr>\n",
       "    <tr>\n",
       "      <td>28</td>\n",
       "      <td>-0.344318</td>\n",
       "      <td>-1.543438</td>\n",
       "      <td>1.003378</td>\n",
       "      <td>0.789653</td>\n",
       "      <td>0.787839</td>\n",
       "      <td>-0.315185</td>\n",
       "      <td>-0.391464</td>\n",
       "    </tr>\n",
       "    <tr>\n",
       "      <td>38</td>\n",
       "      <td>-0.323380</td>\n",
       "      <td>-1.604500</td>\n",
       "      <td>-0.570390</td>\n",
       "      <td>-0.437061</td>\n",
       "      <td>0.787839</td>\n",
       "      <td>-0.246344</td>\n",
       "      <td>-0.317924</td>\n",
       "    </tr>\n",
       "  </tbody>\n",
       "</table>\n",
       "</div>"
      ],
      "text/plain": [
       "    Country_Population  Total_Day_Lockdown  Avg_Pollution_2020  \\\n",
       "13           -0.063387            0.471606           -0.651792   \n",
       "17           -0.194216            0.960101           -0.570390   \n",
       "44           -0.061426           -1.604500            0.080824   \n",
       "15           -0.204475            0.715854            0.270762   \n",
       "9             4.725905            2.181340            1.193316   \n",
       "16           -0.297071           -1.543438           -0.380452   \n",
       "29           -0.349788            0.105234           -0.461854   \n",
       "32           -0.340253           -0.505385           -0.950265   \n",
       "45           -0.204890           -0.139013           -0.516122   \n",
       "0            -0.324462           -1.116004            0.677771   \n",
       "31           -0.298867            0.166296           -0.570390   \n",
       "30           -0.347824           -2.092995            1.844530   \n",
       "5            -0.318459           -0.505385           -0.543256   \n",
       "11           -0.341408            1.021163           -0.706060   \n",
       "34           -0.342369            0.532668           -0.923131   \n",
       "1            -0.199724            1.143287           -0.706060   \n",
       "41           -0.338437           -0.016889           -0.516122   \n",
       "21           -0.322581            0.105234           -0.353318   \n",
       "2            -0.327586           -0.749633           -0.461854   \n",
       "35           -0.242913            1.326473           -0.136247   \n",
       "23           -0.325275           -1.665562           -0.109113   \n",
       "37           -0.225690           -0.688571            0.026557   \n",
       "10           -0.179631            0.410544            2.143003   \n",
       "22           -0.344902           -0.505385           -0.516122   \n",
       "18           -0.339830           -1.238128           -1.140203   \n",
       "46            0.810067            0.105234           -0.895997   \n",
       "20           -0.119557            0.899040           -0.597524   \n",
       "7            -0.328829            0.899040           -1.601479   \n",
       "42           -0.340117           -0.200075           -0.109113   \n",
       "14           -0.338942           -0.444323           -0.760327   \n",
       "28           -0.344318           -1.543438            1.003378   \n",
       "38           -0.323380           -1.604500           -0.570390   \n",
       "\n",
       "    Avg_Pollution_2019  Development  Total_Case  Total_Death  \n",
       "13           -0.280934     0.787839    0.421265     0.132376  \n",
       "17           -0.459365     0.787839    0.682699     1.456636  \n",
       "44            0.120536    -1.269296    0.300683    -0.123807  \n",
       "15            0.031320    -1.269296   -0.347206    -0.362276  \n",
       "9             1.614896    -1.269296    0.007013    -0.087440  \n",
       "16           -0.191719    -1.269296   -0.228211    -0.218282  \n",
       "29           -0.191719     0.787839   -0.371457    -0.394953  \n",
       "32           -0.682404     0.787839   -0.340895    -0.383077  \n",
       "45           -0.526277    -1.269296   -0.296580    -0.365295  \n",
       "0             0.633525     0.787839   -0.274705    -0.384284  \n",
       "31           -0.370150     0.787839   -0.177264    -0.018194  \n",
       "30            2.797002    -1.269296   -0.377870    -0.398643  \n",
       "5            -0.392453     0.787839   -0.126262     0.205580  \n",
       "11           -0.682404     0.787839   -0.374581    -0.397972  \n",
       "34           -0.950051     0.787839   -0.373223    -0.397234  \n",
       "1            -0.704708    -1.269296   -0.342752    -0.374287  \n",
       "41           -0.370150     0.787839   -0.253013    -0.397167  \n",
       "21           -0.414757     0.787839   -0.365563    -0.387773  \n",
       "2            -0.370150     0.787839   -0.304460    -0.356505  \n",
       "35           -0.303238    -1.269296    0.027640    -0.229353  \n",
       "23           -0.526277     0.787839   -0.362398    -0.368382  \n",
       "37            0.142840     0.787839   -0.294750    -0.337248  \n",
       "10            0.075928    -1.269296   -0.309969    -0.360934  \n",
       "22           -0.615492     0.787839   -0.368292    -0.392269  \n",
       "18           -0.950051     0.787839   -0.349660    -0.378715  \n",
       "46           -0.727012     0.787839    6.354631     5.556636  \n",
       "20           -0.637796     0.787839    0.723115     1.913981  \n",
       "7            -1.418432     0.787839   -0.238642    -0.291218  \n",
       "42           -0.258630     0.787839   -0.371646    -0.396765  \n",
       "14           -0.838531     0.787839   -0.328689    -0.362209  \n",
       "28            0.789653     0.787839   -0.315185    -0.391464  \n",
       "38           -0.437061     0.787839   -0.246344    -0.317924  "
      ]
     },
     "execution_count": 17,
     "metadata": {},
     "output_type": "execute_result"
    }
   ],
   "source": [
    "X_training"
   ]
  },
  {
   "cell_type": "markdown",
   "metadata": {},
   "source": [
    "## Models\n",
    "\n",
    "\n",
    "- In this section logistic regression, support vector classifier, random forest classifier and k-nearest neighbor classifiers will be used. Their hyperparameters will be tuned, after tuning general performance of the model will be calculated with repeated 5-Fold cross validation.\n",
    "\n",
    "\n",
    "### Hyperparameter Optimization\n",
    "\n",
    "\n",
    "A hyperparameter is external to the model and the value of it cannot be estimated from data. It affects the model performance and because of that hyperparameter tuning is important for all algorithms. In this study, for each of the algorithms best hyperparameters are found with grid search cross validation. Grid-searching is a method that searching for best combination of hyperparameters. In Scikitlearn library in python, there is a method which name is GridSearchCV() (Scikitlearn, 2019). This method allows to use cross validation and it find best hyperparameters for the selected model. For this study, hypothetical set for each the hyperparameter are defined first, and best combination of hyperparameters are selected by GridSearchCV() method with repeated 5-fold cross validation on training dataset, this best hyperparameters are used for the rest of analysis.\n",
    "\n",
    " \n",
    "\n"
   ]
  },
  {
   "cell_type": "markdown",
   "metadata": {},
   "source": [
    "## 1. Logistic Regression\n",
    "\n",
    "\n",
    "Logistic regression is a type of classification algorithm. Logistic regression turns linear predictions into probabilities by using the logistic function. Logistic regression can be used for binary classification. It takes solver as parameter to solve the optimization problem. In Scikitlearn, for small dataset it is suggested that using solver as \"liblinear\" (Scikitlearn, 2019). It uses the penalty to specify the norm used in the penalization. The penalty parameters of logistic regression could be l1 penalization, l2 penalization or elasticnet. Different types of penalization terms are tried in this study."
   ]
  },
  {
   "cell_type": "markdown",
   "metadata": {},
   "source": [
    "###  Hyperparameter Tuning"
   ]
  },
  {
   "cell_type": "code",
   "execution_count": 18,
   "metadata": {},
   "outputs": [
    {
     "data": {
      "text/plain": [
       "{'penalty': 'l2'}"
      ]
     },
     "execution_count": 18,
     "metadata": {},
     "output_type": "execute_result"
    }
   ],
   "source": [
    "log_reg = LogisticRegression(solver = \"liblinear\", random_state=3)\n",
    "cv_method = RepeatedKFold(n_splits=5, n_repeats=10, random_state=7)\n",
    "\n",
    "params_LR = { \"penalty\":[\"l1\",\"l2\",\"elasticnet\"] }\n",
    "\n",
    "gs_LR = GridSearchCV(estimator=log_reg, \n",
    "                     param_grid=params_LR, \n",
    "                     cv=cv_method)\n",
    "gs_LR.fit(X_training, y_training);\n",
    "gs_LR.best_params_"
   ]
  },
  {
   "cell_type": "markdown",
   "metadata": {},
   "source": [
    "Best parameter is penalty = l2"
   ]
  },
  {
   "cell_type": "code",
   "execution_count": 19,
   "metadata": {},
   "outputs": [
    {
     "data": {
      "text/plain": [
       "LogisticRegression(random_state=3, solver='liblinear')"
      ]
     },
     "execution_count": 19,
     "metadata": {},
     "output_type": "execute_result"
    }
   ],
   "source": [
    "## Model is fitted with best hyperparameter.\n",
    "lr_tuned_model =  LogisticRegression(solver = \"liblinear\", penalty = \"l2\", random_state=3)\n",
    "lr_tuned_model.fit(X_training, y_training)"
   ]
  },
  {
   "cell_type": "markdown",
   "metadata": {},
   "source": [
    "Hyperparameter optimization is made with the method, which is mentioned above, and best penalty parameter is found as l2 penalization. The model is fitted using this hyperparameter on the training data and predictions are made on the test data, for the comparison accuracy score is calculated for both the training and the test data. The f1 score, confusion matrix and roc curve are obtained for only the test data."
   ]
  },
  {
   "cell_type": "markdown",
   "metadata": {},
   "source": [
    "### Training Accuracy Score"
   ]
  },
  {
   "cell_type": "code",
   "execution_count": 20,
   "metadata": {},
   "outputs": [
    {
     "name": "stdout",
     "output_type": "stream",
     "text": [
      "Accuracy Score:  0.75\n"
     ]
    }
   ],
   "source": [
    "y_pred = lr_tuned_model.predict(X_training)\n",
    "\n",
    "print(\"Accuracy Score: \", accuracy_score(y_pred, y_training))"
   ]
  },
  {
   "cell_type": "markdown",
   "metadata": {},
   "source": [
    "### Test Accuracy and F1 Score"
   ]
  },
  {
   "cell_type": "code",
   "execution_count": 21,
   "metadata": {},
   "outputs": [
    {
     "name": "stdout",
     "output_type": "stream",
     "text": [
      "f1 score:  0.7999999999999999\n",
      "Accuracy score:  0.7333333333333333\n"
     ]
    }
   ],
   "source": [
    "y_pred_test = lr_tuned_model.predict(X_test)\n",
    "print(\"f1 score: \", f1_score(y_pred_test, y_test))\n",
    "print(\"Accuracy score: \", accuracy_score(y_pred_test, y_test))\n"
   ]
  },
  {
   "cell_type": "markdown",
   "metadata": {},
   "source": [
    "It can be said that both test and training data accuracy nearly equal, but the training accuracy score is higher than the test accuracy score, as it is expected. Also, f1 score of the model is calculated as 0.80."
   ]
  },
  {
   "cell_type": "markdown",
   "metadata": {},
   "source": [
    "### Confusion Matrix\n",
    "\n",
    "\n",
    "Note that skitlearn give confusion matrix as  ;\n",
    "\n",
    "TN      FP\n",
    "  \n",
    "\n",
    "\n",
    "\n",
    "FN      TP"
   ]
  },
  {
   "cell_type": "code",
   "execution_count": 22,
   "metadata": {},
   "outputs": [
    {
     "name": "stdout",
     "output_type": "stream",
     "text": [
      "[[3 1]\n",
      " [3 8]]\n"
     ]
    }
   ],
   "source": [
    "print (confusion_matrix(y_test, y_pred_test))"
   ]
  },
  {
   "cell_type": "markdown",
   "metadata": {},
   "source": [
    "8 of the actual positive instances are correctly classified as positive, 3 of the actual negative instances are correctly classified as negative. 3 of the actual positive instances are incorrectly classified as negative and 1 of the actual negative instances is incorrectly classified as positive. Total number of false negatives is higher than total number of false positives. The model tends to make Type II error. "
   ]
  },
  {
   "cell_type": "markdown",
   "metadata": {},
   "source": [
    "### ROC Curve"
   ]
  },
  {
   "cell_type": "code",
   "execution_count": 23,
   "metadata": {},
   "outputs": [
    {
     "data": {
      "image/png": "[encoded data removed]",
      "text/plain": [
       "<Figure size 432x288 with 1 Axes>"
      ]
     },
     "metadata": {
      "needs_background": "light"
     },
     "output_type": "display_data"
    }
   ],
   "source": [
    "fpr, tpr, threshold = roc_curve(y_test, y_pred_test)\n",
    "roc_auc = auc(fpr, tpr)\n",
    "\n",
    "plt.title('Logistic Regression ROC Curve')\n",
    "plt.plot(fpr, tpr, 'b', label = 'AUC = %0.2f' % roc_auc)\n",
    "plt.legend(loc = 'lower right')\n",
    "plt.plot([0, 1], [0, 1],'r--')\n",
    "plt.xlim([0, 1])\n",
    "plt.ylim([0, 1])\n",
    "plt.ylabel('True Positive Rate')\n",
    "plt.xlabel('False Positive Rate')\n",
    "plt.show()"
   ]
  },
  {
   "cell_type": "markdown",
   "metadata": {},
   "source": [
    "Logistic regression tuned model have nearly 75% true positive rate (Sensitivity) and 25% false positive rate (1-Specificity), area under curve is calculated as 0.74."
   ]
  },
  {
   "cell_type": "markdown",
   "metadata": {},
   "source": [
    "### General Performance- F1 Score"
   ]
  },
  {
   "cell_type": "code",
   "execution_count": 24,
   "metadata": {},
   "outputs": [
    {
     "name": "stdout",
     "output_type": "stream",
     "text": [
      "F1 Score of Logistic Regression: 0.79 (+/- 0.13)\n"
     ]
    }
   ],
   "source": [
    "lr_cv_f1_score = cross_val_score(lr_tuned_model, X=X, y=y, cv=cv_method, scoring='f1')\n",
    "print(\"F1 Score of Logistic Regression: %0.2f (+/- %0.2f)\" % (lr_cv_f1_score.mean(), lr_cv_f1_score.std() ))"
   ]
  },
  {
   "cell_type": "markdown",
   "metadata": {},
   "source": [
    "The model has average 0.79 f1 score, with confidence interval CI = [0.66, 0.92]"
   ]
  },
  {
   "cell_type": "markdown",
   "metadata": {},
   "source": [
    "## 2. Support Vector Classifier"
   ]
  },
  {
   "cell_type": "markdown",
   "metadata": {},
   "source": [
    "- C is regularization parameter. The strength of the regularization is inversely proportional to C. Must be strictly positive. The penalty is a squared l2 penalty.\n",
    "\n",
    "- Gamma is kernel coefficient for ‘rbf’, ‘poly’ and ‘sigmoid’\n",
    "\n",
    "- Kernel specifies the kernel type to be used in the algorithm.\n",
    "\n",
    "Different C, gamma and kernel values are tried to find best parameter with repeated 5-fold cross validation on training data."
   ]
  },
  {
   "cell_type": "markdown",
   "metadata": {},
   "source": [
    "### Hyperparameter Tuning"
   ]
  },
  {
   "cell_type": "code",
   "execution_count": 25,
   "metadata": {},
   "outputs": [
    {
     "name": "stdout",
     "output_type": "stream",
     "text": [
      "Fitting 50 folds for each of 75 candidates, totalling 3750 fits\n"
     ]
    },
    {
     "name": "stderr",
     "output_type": "stream",
     "text": [
      "[Parallel(n_jobs=-1)]: Using backend LokyBackend with 4 concurrent workers.\n",
      "[Parallel(n_jobs=-1)]: Done  33 tasks      | elapsed:    9.2s\n",
      "[Parallel(n_jobs=-1)]: Done 1842 tasks      | elapsed:   16.3s\n",
      "[Parallel(n_jobs=-1)]: Done 3750 out of 3750 | elapsed:   23.6s finished\n"
     ]
    },
    {
     "data": {
      "text/plain": [
       "{'C': 1000, 'gamma': 0.01, 'kernel': 'rbf'}"
      ]
     },
     "execution_count": 25,
     "metadata": {},
     "output_type": "execute_result"
    }
   ],
   "source": [
    "cv_method = RepeatedKFold(n_splits=5, n_repeats=10, random_state=7)\n",
    "param_grid = {'C': [0.1, 1, 10, 100, 1000],  \n",
    "              'gamma': [1, 0.1, 0.01, 0.001, 0.0001], \n",
    "              'kernel': ['rbf','linear', 'poly']} \n",
    "svc = SVC(random_state= 5 )\n",
    "\n",
    "gs_svm_model = GridSearchCV(svc,param_grid, \n",
    "                            cv = cv_method, \n",
    "                            n_jobs = -1, \n",
    "                            verbose = 2 )\n",
    "## n_jobs = -1 means using all processors.\n",
    "## verbose used for controlling the verbosity: the higher, the more messages.\n",
    "gs_svm_model.fit(X_training, y_training);\n",
    "gs_svm_model.best_params_"
   ]
  },
  {
   "cell_type": "markdown",
   "metadata": {},
   "source": [
    "Hyperparameter optimization is made and the best parameters are selected as C=1000, γ = 0.01 and kernel function is radial basis function. The model is fitted using these hyperparameters on the training data and predictions are made on the test data."
   ]
  },
  {
   "cell_type": "code",
   "execution_count": 26,
   "metadata": {},
   "outputs": [],
   "source": [
    "svc_tuned_model = SVC(C= 1000, gamma = 0.01 , kernel = 'rbf', random_state=5)"
   ]
  },
  {
   "cell_type": "code",
   "execution_count": 27,
   "metadata": {},
   "outputs": [
    {
     "data": {
      "text/plain": [
       "SVC(C=1000, gamma=0.01, random_state=5)"
      ]
     },
     "execution_count": 27,
     "metadata": {},
     "output_type": "execute_result"
    }
   ],
   "source": [
    "svc_tuned_model.fit(X_training, y_training)"
   ]
  },
  {
   "cell_type": "markdown",
   "metadata": {},
   "source": [
    "### Training Accuracy Score"
   ]
  },
  {
   "cell_type": "code",
   "execution_count": 28,
   "metadata": {},
   "outputs": [
    {
     "name": "stdout",
     "output_type": "stream",
     "text": [
      "Accuracy score:  0.96875\n"
     ]
    }
   ],
   "source": [
    "y_pred = svc_tuned_model.predict(X_training)\n",
    "print(\"Accuracy score: \", accuracy_score(y_pred, y_training))"
   ]
  },
  {
   "cell_type": "markdown",
   "metadata": {},
   "source": [
    "### Test Accuracy and F1 Score"
   ]
  },
  {
   "cell_type": "code",
   "execution_count": 29,
   "metadata": {},
   "outputs": [
    {
     "name": "stdout",
     "output_type": "stream",
     "text": [
      "f1 score:  0.9090909090909091\n",
      "Accuracy score:  0.8666666666666667\n"
     ]
    }
   ],
   "source": [
    "y_pred_test = svc_tuned_model.predict(X_test)\n",
    "print(\"f1 score: \", f1_score(y_test, y_pred_test))\n",
    "print(\"Accuracy score: \", accuracy_score(y_test, y_pred_test))"
   ]
  },
  {
   "cell_type": "markdown",
   "metadata": {},
   "source": [
    "The training accuracy score is higher than the test accuracy score, the difference between the test and training accuracy score is not large. Also, f1 score of the test data is calculated as 0.91.\n"
   ]
  },
  {
   "cell_type": "markdown",
   "metadata": {},
   "source": [
    "### Confusion Matrix"
   ]
  },
  {
   "cell_type": "code",
   "execution_count": 30,
   "metadata": {},
   "outputs": [
    {
     "name": "stdout",
     "output_type": "stream",
     "text": [
      "test confusion matrix:\n",
      " [[ 3  1]\n",
      " [ 1 10]]\n"
     ]
    }
   ],
   "source": [
    "print('test confusion matrix:\\n', confusion_matrix(y_test,y_pred_test))"
   ]
  },
  {
   "cell_type": "markdown",
   "metadata": {},
   "source": [
    "10 of the actual positive instances are correctly classified as positive, 3 of the instances are correctly classified as negative. 1 of the instances is incorrectly classified as positive and 1 of the instances is incorrectly classified as negative. "
   ]
  },
  {
   "cell_type": "markdown",
   "metadata": {},
   "source": [
    "### ROC Curve"
   ]
  },
  {
   "cell_type": "code",
   "execution_count": 31,
   "metadata": {},
   "outputs": [
    {
     "data": {
      "image/png": "[encoded data removed]",
      "text/plain": [
       "<Figure size 432x288 with 1 Axes>"
      ]
     },
     "metadata": {
      "needs_background": "light"
     },
     "output_type": "display_data"
    }
   ],
   "source": [
    "fpr, tpr, threshold = roc_curve(y_test, y_pred_test)\n",
    "roc_auc = auc(fpr, tpr)\n",
    "\n",
    "plt.title('SVC ROC Curve')\n",
    "plt.plot(fpr, tpr, 'b', label = 'AUC = %0.2f' % roc_auc)\n",
    "plt.legend(loc = 'lower right')\n",
    "plt.plot([0, 1], [0, 1],'r--')\n",
    "plt.xlim([0, 1])\n",
    "plt.ylim([0, 1])\n",
    "plt.ylabel('True Positive Rate')\n",
    "plt.xlabel('False Positive Rate')\n",
    "plt.show()"
   ]
  },
  {
   "cell_type": "markdown",
   "metadata": {},
   "source": [
    "True positive rate is higher than 0.80 and false positive rate is lower than 0.2, are under curve is calculated as 0.83"
   ]
  },
  {
   "cell_type": "markdown",
   "metadata": {},
   "source": [
    "### General Performance -  F1 Score"
   ]
  },
  {
   "cell_type": "code",
   "execution_count": 32,
   "metadata": {},
   "outputs": [
    {
     "name": "stdout",
     "output_type": "stream",
     "text": [
      "F1 Score of SVC: 0.92 (+/- 0.07)\n"
     ]
    }
   ],
   "source": [
    "svc_cv_f1_score = cross_val_score(svc_tuned_model, X=X, y=y, cv=cv_method, scoring='f1')\n",
    "print(\"F1 Score of SVC: %0.2f (+/- %0.2f)\" % (svc_cv_f1_score.mean(), svc_cv_f1_score.std() ))"
   ]
  },
  {
   "cell_type": "markdown",
   "metadata": {},
   "source": [
    "The model has average 0.92 f1 score on general, with confidence interval CI = [0.85, 0.99].  This confidence interval is tighter when compared to the logistic regression model."
   ]
  },
  {
   "cell_type": "markdown",
   "metadata": {},
   "source": [
    "## 3. Random Forest\n",
    "\n",
    "Random forest classifier creates a set of decision trees from randomly selected subset of training set. It is recommended to use bootstrap samples. In sklearn, RandomForestClassifier() provides to use bootstrap samples when building trees. In random forest classifier, tuned parameters is selected as max_depth of the tree, max_features: the number of features to consider when looking for the best split, n_estimators: the number of trees in the forest, min_samples_split: the minimum number of samples required to split an internal node. Their values are selected arbitrarily."
   ]
  },
  {
   "cell_type": "markdown",
   "metadata": {},
   "source": [
    "### Hyperparameter Tuning"
   ]
  },
  {
   "cell_type": "code",
   "execution_count": 33,
   "metadata": {},
   "outputs": [],
   "source": [
    "rf_params = {\"max_depth\": [2,5,8,10],\n",
    "            \"criterion\" : [\"gini\", \"entropy\"],\n",
    "            \"n_estimators\": [10,500,1000],\n",
    "            \"min_samples_split\": [2,5,10]}\n",
    "\n",
    "\n",
    "cv_method = RepeatedKFold(n_splits=5, n_repeats=10, random_state=7)\n",
    "rf_model = RandomForestClassifier(bootstrap = True ,random_state = 5)\n",
    "\n",
    "gs_rf_model = GridSearchCV(rf_model, \n",
    "                           rf_params, \n",
    "                           cv = cv_method, \n",
    "                           n_jobs = -1, \n",
    "                           verbose = 2)"
   ]
  },
  {
   "cell_type": "markdown",
   "metadata": {},
   "source": [
    "- Note that, the code below, work for average 20 min. because it uses repeated 5 fold cross validation for gridsearch and use bootstrap for decision tree. "
   ]
  },
  {
   "cell_type": "code",
   "execution_count": 34,
   "metadata": {},
   "outputs": [
    {
     "name": "stdout",
     "output_type": "stream",
     "text": [
      "Fitting 50 folds for each of 72 candidates, totalling 3600 fits\n"
     ]
    },
    {
     "name": "stderr",
     "output_type": "stream",
     "text": [
      "[Parallel(n_jobs=-1)]: Using backend LokyBackend with 4 concurrent workers.\n",
      "[Parallel(n_jobs=-1)]: Done  62 tasks      | elapsed:    7.5s\n",
      "[Parallel(n_jobs=-1)]: Done 208 tasks      | elapsed:  1.1min\n",
      "[Parallel(n_jobs=-1)]: Done 431 tasks      | elapsed:  2.9min\n",
      "[Parallel(n_jobs=-1)]: Done 753 tasks      | elapsed:  5.3min\n",
      "[Parallel(n_jobs=-1)]: Done 1202 tasks      | elapsed:  8.5min\n",
      "[Parallel(n_jobs=-1)]: Done 1724 tasks      | elapsed: 11.9min\n",
      "[Parallel(n_jobs=-1)]: Done 2303 tasks      | elapsed: 16.7min\n",
      "[Parallel(n_jobs=-1)]: Done 2997 tasks      | elapsed: 22.1min\n",
      "[Parallel(n_jobs=-1)]: Done 3600 out of 3600 | elapsed: 26.5min finished\n"
     ]
    }
   ],
   "source": [
    "gs_rf_model.fit(X_training, y_training);"
   ]
  },
  {
   "cell_type": "code",
   "execution_count": 35,
   "metadata": {},
   "outputs": [
    {
     "data": {
      "text/plain": [
       "{'criterion': 'entropy',\n",
       " 'max_depth': 5,\n",
       " 'min_samples_split': 10,\n",
       " 'n_estimators': 1000}"
      ]
     },
     "execution_count": 35,
     "metadata": {},
     "output_type": "execute_result"
    }
   ],
   "source": [
    "gs_rf_model.best_params_"
   ]
  },
  {
   "cell_type": "markdown",
   "metadata": {},
   "source": [
    "Hyperparameters are optimized and the best parameters were selected as “1000” estimator, “entropy” criterion, “5” maximum depth, “10” minimum sample splits. The model is fitted using this hyperparameters on the training data and predictions are made on the test data. "
   ]
  },
  {
   "cell_type": "code",
   "execution_count": 36,
   "metadata": {},
   "outputs": [
    {
     "data": {
      "text/plain": [
       "RandomForestClassifier(criterion='entropy', max_depth=5, min_samples_split=10,\n",
       "                       n_estimators=1000, random_state=5)"
      ]
     },
     "execution_count": 36,
     "metadata": {},
     "output_type": "execute_result"
    }
   ],
   "source": [
    "rf_tuned_model = RandomForestClassifier(max_depth = 5 , criterion = 'entropy', min_samples_split = 10, n_estimators = 1000, random_state=5)\n",
    "rf_tuned_model.fit(X_training, y_training)"
   ]
  },
  {
   "cell_type": "markdown",
   "metadata": {},
   "source": [
    "### Training Accuracy Score"
   ]
  },
  {
   "cell_type": "code",
   "execution_count": 37,
   "metadata": {},
   "outputs": [
    {
     "name": "stdout",
     "output_type": "stream",
     "text": [
      "Accuracy Score:  0.90625\n"
     ]
    }
   ],
   "source": [
    "y_pred = rf_tuned_model.predict(X_training)\n",
    "print(\"Accuracy Score: \", accuracy_score(y_training, y_pred))\n"
   ]
  },
  {
   "cell_type": "markdown",
   "metadata": {},
   "source": [
    "### Test Accuracy and F1 Score"
   ]
  },
  {
   "cell_type": "code",
   "execution_count": 38,
   "metadata": {},
   "outputs": [
    {
     "name": "stdout",
     "output_type": "stream",
     "text": [
      "f1 score:  0.8333333333333333\n",
      "Accuracy score:  0.7333333333333333\n"
     ]
    }
   ],
   "source": [
    "y_pred_test = rf_tuned_model.predict(X_test)\n",
    "print(\"f1 score: \", f1_score(y_test,y_pred_test))\n",
    "print(\"Accuracy score: \", accuracy_score(y_test,y_pred_test))\n"
   ]
  },
  {
   "cell_type": "markdown",
   "metadata": {},
   "source": [
    "The training accuracy score is higher than the test accuracy score. The difference between test and training accuracy is large, there might be overfitting. The training data learn the model well, but the test data does not perform as good as the training data. Also, F1 score of the model is calculated as 0.83."
   ]
  },
  {
   "cell_type": "markdown",
   "metadata": {},
   "source": [
    "### Confusion Matrix"
   ]
  },
  {
   "cell_type": "code",
   "execution_count": 39,
   "metadata": {},
   "outputs": [
    {
     "name": "stdout",
     "output_type": "stream",
     "text": [
      "test confusion matrix:\n",
      " [[ 1  3]\n",
      " [ 1 10]]\n"
     ]
    }
   ],
   "source": [
    "print('test confusion matrix:\\n', confusion_matrix(y_test, y_pred_test))"
   ]
  },
  {
   "cell_type": "markdown",
   "metadata": {},
   "source": [
    "10 of the actual positive instances are correctly classified as positive, 1 of the instances is correctly classified as negative. 3 of the instances are incorrectly classified as positive and 1 of the instances are incorrectly classified as negative. The number of false positives is higher than the number of false negatives, this model tends to make Type I error. "
   ]
  },
  {
   "cell_type": "markdown",
   "metadata": {},
   "source": [
    "### ROC Curve"
   ]
  },
  {
   "cell_type": "code",
   "execution_count": 40,
   "metadata": {},
   "outputs": [
    {
     "data": {
      "image/png": "[encoded data removed]",
      "text/plain": [
       "<Figure size 432x288 with 1 Axes>"
      ]
     },
     "metadata": {
      "needs_background": "light"
     },
     "output_type": "display_data"
    }
   ],
   "source": [
    "fpr, tpr, threshold = roc_curve(y_test, y_pred_test)\n",
    "roc_auc = auc(fpr, tpr)\n",
    "\n",
    "plt.title('Random Forest ROC Curve')\n",
    "plt.plot(fpr, tpr, 'b', label = 'AUC = %0.2f' % roc_auc)\n",
    "plt.legend(loc = 'lower right')\n",
    "plt.plot([0, 1], [0, 1],'r--')\n",
    "plt.xlim([0, 1])\n",
    "plt.ylim([0, 1])\n",
    "plt.ylabel('True Positive Rate')\n",
    "plt.xlabel('False Positive Rate')\n",
    "plt.show()"
   ]
  },
  {
   "cell_type": "markdown",
   "metadata": {},
   "source": [
    "This model has nearly 75% false positive rate. It has higher than 80% true positive rate. Also, area under curve is calculated as 0.58. Area under curve value is not good when compared to the other models. It can be said that random forest does not have a good performance."
   ]
  },
  {
   "cell_type": "markdown",
   "metadata": {},
   "source": [
    "### General Performance- F1 Score"
   ]
  },
  {
   "cell_type": "code",
   "execution_count": 41,
   "metadata": {},
   "outputs": [
    {
     "name": "stdout",
     "output_type": "stream",
     "text": [
      "F1 Score of Random  Forest Decision Tree: 0.76 (+/- 0.13)\n"
     ]
    }
   ],
   "source": [
    "rf_cv_f1_score =  cross_val_score(rf_tuned_model, X=X, y=y, cv=cv_method, scoring = \"f1\")\n",
    "print(\"F1 Score of Random  Forest Decision Tree: %0.2f (+/- %0.2f)\" % (rf_cv_f1_score.mean(), rf_cv_f1_score.std()))"
   ]
  },
  {
   "cell_type": "markdown",
   "metadata": {},
   "source": [
    "The model has average 0.74 f1 score, with confidence interval CI = [0.61, 0.87].  "
   ]
  },
  {
   "cell_type": "markdown",
   "metadata": {},
   "source": [
    "## 4. K-Nearest Neighbor Classifier"
   ]
  },
  {
   "cell_type": "markdown",
   "metadata": {},
   "source": [
    "K nearest neighbors is a simple algorithm that classifies based on a distance function. In this study, different k number of neighbor values and different distance functions were tried for the hyperparameter tuning. Number of neighbors considered 1 to 8 and  p(distance)  values of 1 (Manhattan), 2 (Euclidean), and 5 (Minkowski) are tried to find best parameter with repeated 5-fold cross validation on training data."
   ]
  },
  {
   "cell_type": "markdown",
   "metadata": {},
   "source": [
    "### Hyperparameter Tuning"
   ]
  },
  {
   "cell_type": "code",
   "execution_count": 42,
   "metadata": {},
   "outputs": [
    {
     "name": "stdout",
     "output_type": "stream",
     "text": [
      "Fitting 50 folds for each of 24 candidates, totalling 1200 fits\n"
     ]
    },
    {
     "name": "stderr",
     "output_type": "stream",
     "text": [
      "[Parallel(n_jobs=1)]: Using backend SequentialBackend with 1 concurrent workers.\n",
      "[Parallel(n_jobs=1)]: Done 1200 out of 1200 | elapsed:    7.9s finished\n"
     ]
    },
    {
     "data": {
      "text/plain": [
       "{'n_neighbors': 7, 'p': 2}"
      ]
     },
     "execution_count": 42,
     "metadata": {},
     "output_type": "execute_result"
    }
   ],
   "source": [
    "params_KNN = {'n_neighbors': [1, 2, 3, 4, 5, 6, 7, 8], \n",
    "              'p': [1, 2, 5]}\n",
    "\n",
    "cv_method = RepeatedKFold(n_splits=5, n_repeats=10, random_state=7)\n",
    "gs_knn_model = GridSearchCV(estimator=KNeighborsClassifier(), \n",
    "                      param_grid=params_KNN, \n",
    "                      cv=cv_method,\n",
    "                      verbose=1)\n",
    "gs_knn_model.fit(X_training,y_training);\n",
    "gs_knn_model.best_params_"
   ]
  },
  {
   "cell_type": "code",
   "execution_count": 43,
   "metadata": {},
   "outputs": [
    {
     "data": {
      "text/plain": [
       "KNeighborsClassifier(n_neighbors=7)"
      ]
     },
     "execution_count": 43,
     "metadata": {},
     "output_type": "execute_result"
    }
   ],
   "source": [
    "knn_tuned_model = KNeighborsClassifier(n_neighbors= 7, p= 2)\n",
    "knn_tuned_model.fit(X_training,y_training)"
   ]
  },
  {
   "cell_type": "markdown",
   "metadata": {},
   "source": [
    "Hyperparameters are optimized and the best parameters are selected as k=7, p = 2. The model is fitted using this hyperparameter on the training data and predictions are made on the test. "
   ]
  },
  {
   "cell_type": "markdown",
   "metadata": {},
   "source": [
    "### Training Accuracy Score"
   ]
  },
  {
   "cell_type": "code",
   "execution_count": 44,
   "metadata": {},
   "outputs": [
    {
     "name": "stdout",
     "output_type": "stream",
     "text": [
      "accuracy score:  0.90625\n"
     ]
    }
   ],
   "source": [
    "y_pred_training = knn_tuned_model.predict(X_training)\n",
    "\n",
    "print(\"accuracy score: \", accuracy_score(y_training, y_pred))\n"
   ]
  },
  {
   "cell_type": "markdown",
   "metadata": {},
   "source": [
    "### Test Accuracy and F1 Score"
   ]
  },
  {
   "cell_type": "code",
   "execution_count": 45,
   "metadata": {},
   "outputs": [
    {
     "name": "stdout",
     "output_type": "stream",
     "text": [
      "f1 score:  0.7272727272727273\n",
      "accuracy score:  0.6\n"
     ]
    }
   ],
   "source": [
    "y_pred_test = knn_tuned_model.predict(X_test)\n",
    "print(\"f1 score: \", f1_score(y_test, y_pred_test))\n",
    "print(\"accuracy score: \", accuracy_score(y_test, y_pred_test))"
   ]
  },
  {
   "cell_type": "markdown",
   "metadata": {},
   "source": [
    "It can be said that training data has higher accuracy. The difference between training accuracy and the test accuracy very large. There might be overfitting, the training data learn the model well, but test data do not perform as good as training data. Also, f1 score of test data is calculated as 0.73."
   ]
  },
  {
   "cell_type": "markdown",
   "metadata": {},
   "source": [
    "### Confusion Matrix"
   ]
  },
  {
   "cell_type": "code",
   "execution_count": 46,
   "metadata": {},
   "outputs": [
    {
     "name": "stdout",
     "output_type": "stream",
     "text": [
      "test confusion matrix:\n",
      " [[1 3]\n",
      " [3 8]]\n"
     ]
    }
   ],
   "source": [
    "print('test confusion matrix:\\n', confusion_matrix(y_test, y_pred_test))"
   ]
  },
  {
   "cell_type": "markdown",
   "metadata": {},
   "source": [
    "8 of the actual positive instances are correctly classified as positive, 1 of the instances is correctly classified as negative. 3 of the instances are incorrectly classified as positive and 3 of the instances are incorrectly classified as negative. This model tends make both Type II and Type I error."
   ]
  },
  {
   "cell_type": "markdown",
   "metadata": {},
   "source": [
    "### ROC Curve"
   ]
  },
  {
   "cell_type": "code",
   "execution_count": 47,
   "metadata": {},
   "outputs": [
    {
     "data": {
      "image/png": "[encoded data removed]",
      "text/plain": [
       "<Figure size 432x288 with 1 Axes>"
      ]
     },
     "metadata": {
      "needs_background": "light"
     },
     "output_type": "display_data"
    }
   ],
   "source": [
    "fpr, tpr, threshold = roc_curve(y_test, y_pred_test)\n",
    "roc_auc = auc(fpr, tpr)\n",
    "\n",
    "plt.title('KNN ROC Curve')\n",
    "plt.plot(fpr, tpr, 'b', label = 'AUC = %0.2f' % roc_auc)\n",
    "plt.legend(loc = 'lower right')\n",
    "plt.plot([0, 1], [0, 1],'r--')\n",
    "plt.xlim([0, 1])\n",
    "plt.ylim([0, 1])\n",
    "plt.ylabel('True Positive Rate')\n",
    "plt.xlabel('False Positive Rate')\n",
    "plt.show()"
   ]
  },
  {
   "cell_type": "markdown",
   "metadata": {},
   "source": [
    "This model has nearly 75% false positive rate. It has the lowest true positive rate when compared to the other models. Also, area under curve is calculated as 0.49. It can be said that k-nearest neighbor algorithm does not perform well."
   ]
  },
  {
   "cell_type": "markdown",
   "metadata": {},
   "source": [
    "### General Performance-F1 Score"
   ]
  },
  {
   "cell_type": "code",
   "execution_count": 48,
   "metadata": {},
   "outputs": [
    {
     "name": "stdout",
     "output_type": "stream",
     "text": [
      "F1 Score of K Nearest Neighbor Classifier: 0.73 (+/- 0.14)\n"
     ]
    }
   ],
   "source": [
    "knn_cv_f1_score =  cross_val_score(knn_tuned_model, X=X, y=y, cv=cv_method, scoring = \"f1\")\n",
    "print(\"F1 Score of K Nearest Neighbor Classifier: %0.2f (+/- %0.2f)\" % (knn_cv_f1_score.mean(), knn_cv_f1_score.std()))"
   ]
  },
  {
   "cell_type": "markdown",
   "metadata": {},
   "source": [
    "In general, the model has average 0.73 f1 score, with confidence interval CI = [0.59, 0.87].  "
   ]
  },
  {
   "cell_type": "markdown",
   "metadata": {},
   "source": [
    "# Final Evaluation"
   ]
  },
  {
   "cell_type": "code",
   "execution_count": 49,
   "metadata": {},
   "outputs": [
    {
     "name": "stdout",
     "output_type": "stream",
     "text": [
      "----------------------------\n",
      "Logistic Regression:\n",
      " F1 Score: 0.7882076877370995 +/- 0.13137486481101732 \n",
      "\n",
      "----------------------------\n",
      "Support Vector Classifier:\n",
      " F1 Score: 0.9221134094663506 +/- 0.07379007242079721 \n",
      "\n",
      "----------------------------\n",
      "Random Forest:\n",
      " F1 Score: 0.7610149381062692 +/- 0.129070372721031 \n",
      "\n",
      "----------------------------\n",
      "K Nearest Neighbors:\n",
      " F1 Score: 0.7303605348899467 +/- 0.1385073459820168 \n",
      "\n"
     ]
    }
   ],
   "source": [
    "print(\"-\"*28)\n",
    "print(\"Logistic Regression:\\n F1 Score:\", lr_cv_f1_score.mean(), \"+/-\", lr_cv_f1_score.std(),\"\\n\")\n",
    "print(\"-\"*28)\n",
    "print(\"Support Vector Classifier:\\n F1 Score:\", svc_cv_f1_score.mean(), \"+/-\", svc_cv_f1_score.std(),\"\\n\")\n",
    "print(\"-\"*28)\n",
    "print(\"Random Forest:\\n F1 Score:\", rf_cv_f1_score.mean(), \"+/-\", rf_cv_f1_score.std(),\"\\n\")\n",
    "print(\"-\"*28)\n",
    "print(\"K Nearest Neighbors:\\n F1 Score:\", knn_cv_f1_score.mean(), \"+/-\", knn_cv_f1_score.std(),\"\\n\")"
   ]
  },
  {
   "cell_type": "code",
   "execution_count": 50,
   "metadata": {},
   "outputs": [
    {
     "data": {
      "image/png": "[encoded data removed]",
      "text/plain": [
       "<Figure size 432x288 with 1 Axes>"
      ]
     },
     "metadata": {
      "needs_background": "light"
     },
     "output_type": "display_data"
    }
   ],
   "source": [
    "models = [ lr_tuned_model,\n",
    "            svc_tuned_model,\n",
    "            rf_tuned_model,\n",
    "            knn_tuned_model]\n",
    "\n",
    "result = []\n",
    "\n",
    "results = pd.DataFrame(columns= [\"Models\",\"F1 Score\"])\n",
    "\n",
    "for model in models:\n",
    "    names = model.__class__.__name__\n",
    "    f1_score = cross_val_score(model, X=X, y=y, cv=cv_method, scoring='f1').mean()\n",
    "    result = pd.DataFrame([[names, f1_score*100]], columns= [\"Models\",\"F1 Score\"])\n",
    "    results = results.append(result)\n",
    "    \n",
    "    \n",
    "sns.barplot(x= 'F1 Score', y = 'Models', data=results, color=\"r\")\n",
    "plt.xlabel('F1 Score %')\n",
    "plt.title('F1 Scores of Models');    "
   ]
  },
  {
   "cell_type": "markdown",
   "metadata": {},
   "source": [
    "It can be said that support vector machine performs better than others, it has higher f1 score and tighter confidence interval. Support vector machine has a better performance in overall. Logistic regression has the second-best performance. K-nearest neighbor and random forest have nearly same performance. The reason of why SVC has better performance might be, support vector machines perform better with small dataset with fewer outliers. Random forest, logistic regression and k nearest neighbor may require more data."
   ]
  },
  {
   "cell_type": "markdown",
   "metadata": {},
   "source": [
    "## References \n",
    "\n",
    "\n",
    "Banerjee, P. (2020, March 13). KNN Classifier Tutorial in Python. Kaggle. https://www.kaggle.com/prashant111/knn-classifier-tutorial\n",
    "\n",
    "Cross Validation (2019) Retrieved May 31,2020, from https://scikit-learn.org/stable/modules/cross_validation.html\n",
    "\n",
    "\n",
    "Grid Search Cross Validation. (2019). Retrieved May 31, 2020, from https://scikit-learn.org/stable/modules/generated/sklearn.model_selection.GridSearchCV.html\n",
    "\n",
    "Logistic Regression (2019) Retrieved May 31, 2020, from https://scikit-learn.org/stable/modules/generated/sklearn.linear_model.LogisticRegression.html\n",
    "\n",
    "Kumar, D. (2020, May 28). Covid-19 Analysis, Visualization & Comparisons. Kaggle. https://www.kaggle.com/imdevskp/covid-19-analysis-visualization-comparisons\n",
    "\n",
    "Model Evaluation (2019) Retrieved May 31, 2020, from https://scikit-learn.org/stable/modules/model_evaluation.html\n",
    "\n",
    "Model Validation in Python. (2018, June 19). Retrieved May 2, 2020, from https://www.datavedas.com/model-validation-in-python/\n",
    "\n",
    "Random Forest Classifier (2019) Retrieved May 31, 2020, from https://scikit-learn.org/stable/modules/generated/sklearn.ensemble.RandomForestClassifier.html\n",
    "\n",
    "Receiver Operating Characteristic (ROC) (2019) Retrived May 31, 2020, from https://scikit-learn.org/stable/auto_examples/model_selection/plot_roc.html\n",
    "\n",
    "SVM Hyperparameter Tuning Using GridSearcCV. (n.d.). Retrieved May 31, 2020, from https://www.geeksforgeeks.org/svm-hyperparameter-tuning-using-gridsearchcv-ml/"
   ]
  }
 ],
 "metadata": {
  "kernelspec": {
   "display_name": "Python 3",
   "language": "python",
   "name": "python3"
  },
  "language_info": {
   "codemirror_mode": {
    "name": "ipython",
    "version": 3
   },
   "file_extension": ".py",
   "mimetype": "text/x-python",
   "name": "python",
   "nbconvert_exporter": "python",
   "pygments_lexer": "ipython3",
   "version": "3.7.4"
  }
 },
 "nbformat": 4,
 "nbformat_minor": 2
}
